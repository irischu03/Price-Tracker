{
 "cells": [
  {
   "cell_type": "code",
   "execution_count": null,
   "metadata": {},
   "outputs": [],
   "source": [
    "import requests\n",
    "from bs4 import BeautifulSoup\n",
    "import smtplib\n",
    "import time\n",
    "# use ipad 11 as an example\n",
    "URL='https://www.amazon.com/Apple-iPad-11-inch-Wi-Fi-128GB/dp/B08634Y7QW?ref_=ast_sto_dp'\n",
    "headers={\"User-Agent\":'Mozilla/5.0 (Windows NT 10.0; Win64; x64) AppleWebKit/537.36 (KHTML, like Gecko) Chrome/85.0.4183.121 Safari/537.36'}"
   ]
  },
  {
   "cell_type": "code",
   "execution_count": null,
   "metadata": {},
   "outputs": [],
   "source": [
    "def check_price():\n",
    "    page=requests.get(URL,headers=headers)\n",
    "    soup=BeautifulSoup(page.content,'html.parser')\n",
    "    #print(soup.prettify()\n",
    "    title=soup.find('span',{\"class\":\"a-size-large qa-title-text\"}).get_text()\n",
    "    price=soup.find('span',{\"class\":\"a-size-medium a-color-price qa-price-block-our-price\"}).get_text()\n",
    "    converted_price=price[1:6]\n",
    "    converted_price=float(converted_price.replace(',' , ''))\n",
    "    if converted_price <1100 :\n",
    "        send_mail()\n",
    "    print(converted_price)\n",
    "    print(title)"
   ]
  },
  {
   "cell_type": "code",
   "execution_count": null,
   "metadata": {},
   "outputs": [],
   "source": [
    "def send_mail():\n",
    "    server=smtplib.SMTP('smtp.gmail.com',587)\n",
    "    server.ehlo()\n",
    "    server.starttls()\n",
    "    server.ehlo()\n",
    "    #import username and password\n",
    "    server.login('username@gmail.com','password')\n",
    "    \n",
    "    subject='Price Alert!'\n",
    "    boday='Check the amazon link https://www.amazon.com/Apple-iPad-11-inch-Wi-Fi-128GB/dp/B08634Y7QW?ref_=ast_sto_dp'\n",
    "    msg=f\"Subject: {subject}\\n\\n{body}\"\n",
    "    server.sendmail('username@gmail.com','receiving email',msg)\n",
    "    print('Email has been sent!')\n",
    "    server.quit()"
   ]
  },
  {
   "cell_type": "code",
   "execution_count": null,
   "metadata": {},
   "outputs": [],
   "source": [
    "#run the program once per day\n",
    "while(True):\n",
    "    check_price()\n",
    "    time.sleep(86400)"
   ]
  },
  {
   "cell_type": "code",
   "execution_count": null,
   "metadata": {},
   "outputs": [],
   "source": []
  }
 ],
 "metadata": {
  "kernelspec": {
   "display_name": "Python 3",
   "language": "python",
   "name": "python3"
  },
  "language_info": {
   "codemirror_mode": {
    "name": "ipython",
    "version": 3
   },
   "file_extension": ".py",
   "mimetype": "text/x-python",
   "name": "python",
   "nbconvert_exporter": "python",
   "pygments_lexer": "ipython3",
   "version": "3.8.3"
  }
 },
 "nbformat": 4,
 "nbformat_minor": 4
}
